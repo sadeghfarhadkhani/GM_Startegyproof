{
 "cells": [
  {
   "cell_type": "markdown",
   "id": "4343eab6",
   "metadata": {},
   "source": [
    "# Code for the experiment of the paper \"On the Strategyproofness of the Geometric Median\"\n",
    "AISTATS 2023\n",
    "\n",
    "El-Mahdi El-Mhamdi, Sadegh Farhadkhani, Rachid Guerraoui, Le-Nguyen Hoang"
   ]
  },
  {
   "cell_type": "code",
   "execution_count": 8,
   "id": "46735868-96f1-4d76-bc54-d5888adad02b",
   "metadata": {},
   "outputs": [],
   "source": [
    "import numpy as np\n",
    "from sklearn.preprocessing import normalize\n",
    "import matplotlib.pyplot as plt"
   ]
  },
  {
   "cell_type": "markdown",
   "id": "e051f6ef-2cc7-4dba-9f1a-2717fe2d3d9b",
   "metadata": {},
   "source": [
    "The geomed method computes the geometric median of the input vectors."
   ]
  },
  {
   "cell_type": "code",
   "execution_count": 9,
   "id": "4988df57-68d9-4737-98ec-7ab464c96122",
   "metadata": {},
   "outputs": [],
   "source": [
    "from skfda import FDataGrid\n",
    "from skfda.exploratory.stats import geometric_median\n",
    "def geoMed (data, tol = 1e-08):\n",
    "    sum_all = 0\n",
    "    X = FDataGrid(data)\n",
    "    median = geometric_median(X, tol=tol)\n",
    "    return median.data_matrix[0, ..., 0]"
   ]
  },
  {
   "cell_type": "markdown",
   "id": "442ea8ca",
   "metadata": {},
   "source": [
    "In the following cell, we first compute the extreme achievable geometric medians for the strategic user (extreme_meidan_horizontal and extreme_meidan_vertical) in both dimensions that are used to build the target vector. We then find the strategic gain by grid search."
   ]
  },
  {
   "cell_type": "code",
   "execution_count": 10,
   "id": "1b046373-8dad-47eb-9aa0-3085ec228aad",
   "metadata": {},
   "outputs": [],
   "source": [
    "NUM_OF_POINTS = 500000\n",
    "Num_OF_SRATEGIC = 5000\n",
    "def strategicGain(mean, cov):\n",
    "    honestPoints = np.random.multivariate_normal(mean, cov, NUM_OF_POINTS)\n",
    "    GMOnlyHonest = geoMed(honestPoints)\n",
    "    poisoned_horizontal = np.array([[1000,0] for t in range(Num_OF_SRATEGIC)])\n",
    "    allPoisoned_horizontal = np.concatenate((honestPoints, poisoned_horizontal), axis=0)\n",
    "    extreme_meidan_horizontal = geoMed(allPoisoned_horizontal)\n",
    "    poisoned_vertical = np.array([[0,1000] for t in range(Num_OF_SRATEGIC)])\n",
    "    allPoisoned_vertical = np.concatenate((honestPoints, poisoned_vertical), axis=0)\n",
    "    extreme_meidan_vertical = geoMed(allPoisoned_vertical)\n",
    "    target = np.array([extreme_meidan_horizontal[0], extreme_meidan_vertical[1]])\n",
    "    \n",
    "    honest_report = np.array([target for t in range(Num_OF_SRATEGIC)])\n",
    "    allHonest = np.concatenate((honestPoints, honest_report), axis=0)\n",
    "    trueMed = geoMed(allHonest)\n",
    "    honest_distance = np.linalg.norm(trueMed-target)\n",
    "    \n",
    "    I = 10\n",
    "    minDist = 1000000.0\n",
    "    for i in range(I+1,1,-1):\n",
    "        temp_strategic = [target[0], target[1]*i/I]\n",
    "        strategic_vote = np.array([temp_strategic for t in range(Num_OF_SRATEGIC)])\n",
    "        allStragic = np.concatenate((honestPoints, strategic_vote), axis=0)\n",
    "        strategic_Med = geoMed(allStragic)\n",
    "        strategic_dist = np.linalg.norm(strategic_Med-target)\n",
    "        if strategic_dist < minDist:\n",
    "            minDist = strategic_dist\n",
    "    strategic_gain = honest_distance/minDist - 1\n",
    "    return strategic_gain\n",
    "    \n"
   ]
  },
  {
   "cell_type": "markdown",
   "id": "ff8dd3f4",
   "metadata": {},
   "source": [
    "Running the code for several seeds:"
   ]
  },
  {
   "cell_type": "code",
   "execution_count": 11,
   "id": "5dfef174-0252-4511-8eee-16ba3ca9ab57",
   "metadata": {},
   "outputs": [
    {
     "name": "stdout",
     "output_type": "stream",
     "text": [
      "covariance: [[1, 0], [0, 1.0]]\n",
      "gain: 0.0\n",
      "-----------------------------\n",
      "covariance: [[4, 0], [0, 0.25]]\n",
      "gain: 0.036730415605759736\n",
      "-----------------------------\n",
      "covariance: [[7, 0], [0, 0.14285714285714285]]\n",
      "gain: 0.06793115460783072\n",
      "-----------------------------\n",
      "covariance: [[10, 0], [0, 0.1]]\n",
      "gain: 0.09065719183652043\n",
      "-----------------------------\n",
      "covariance: [[13, 0], [0, 0.07692307692307693]]\n",
      "gain: 0.10534537933792909\n",
      "-----------------------------\n",
      "covariance: [[16, 0], [0, 0.0625]]\n",
      "gain: 0.11916609126751854\n",
      "-----------------------------\n",
      "covariance: [[19, 0], [0, 0.05263157894736842]]\n",
      "gain: 0.12836812598314484\n",
      "-----------------------------\n",
      "covariance: [[22, 0], [0, 0.045454545454545456]]\n",
      "gain: 0.13979529489461773\n",
      "-----------------------------\n",
      "covariance: [[25, 0], [0, 0.04]]\n",
      "gain: 0.15042747442125237\n",
      "-----------------------------\n",
      "covariance: [[28, 0], [0, 0.03571428571428571]]\n",
      "gain: 0.15376927681114294\n",
      "-----------------------------\n",
      "covariance: [[31, 0], [0, 0.03225806451612903]]\n",
      "gain: 0.16371575495232116\n",
      "-----------------------------\n",
      "covariance: [[34, 0], [0, 0.029411764705882353]]\n",
      "gain: 0.16297731574554564\n",
      "-----------------------------\n",
      "covariance: [[37, 0], [0, 0.02702702702702703]]\n",
      "gain: 0.17071787750852696\n",
      "-----------------------------\n",
      "covariance: [[40, 0], [0, 0.025]]\n",
      "gain: 0.17858339890964925\n",
      "-----------------------------\n",
      "covariance: [[1, 0], [0, 1.0]]\n",
      "gain: 0.0\n",
      "-----------------------------\n",
      "covariance: [[4, 0], [0, 0.25]]\n",
      "gain: 0.03821524227649342\n",
      "-----------------------------\n",
      "covariance: [[7, 0], [0, 0.14285714285714285]]\n",
      "gain: 0.06896299402139494\n",
      "-----------------------------\n",
      "covariance: [[10, 0], [0, 0.1]]\n",
      "gain: 0.08793559246907323\n",
      "-----------------------------\n",
      "covariance: [[13, 0], [0, 0.07692307692307693]]\n",
      "gain: 0.10348276484779761\n",
      "-----------------------------\n",
      "covariance: [[16, 0], [0, 0.0625]]\n",
      "gain: 0.1145061013247477\n",
      "-----------------------------\n",
      "covariance: [[19, 0], [0, 0.05263157894736842]]\n",
      "gain: 0.1319653415489146\n",
      "-----------------------------\n",
      "covariance: [[22, 0], [0, 0.045454545454545456]]\n",
      "gain: 0.13487498649103635\n",
      "-----------------------------\n",
      "covariance: [[25, 0], [0, 0.04]]\n",
      "gain: 0.14958425926246033\n",
      "-----------------------------\n",
      "covariance: [[28, 0], [0, 0.03571428571428571]]\n",
      "gain: 0.15286136567902364\n",
      "-----------------------------\n",
      "covariance: [[31, 0], [0, 0.03225806451612903]]\n",
      "gain: 0.15896722882282566\n",
      "-----------------------------\n",
      "covariance: [[34, 0], [0, 0.029411764705882353]]\n",
      "gain: 0.16439620157333446\n",
      "-----------------------------\n",
      "covariance: [[37, 0], [0, 0.02702702702702703]]\n",
      "gain: 0.16701979953152368\n",
      "-----------------------------\n",
      "covariance: [[40, 0], [0, 0.025]]\n",
      "gain: 0.17507657070594496\n",
      "-----------------------------\n"
     ]
    }
   ],
   "source": [
    "Num_OF_SEEDS = 2\n",
    "gain_list = []\n",
    "for seed in range(Num_OF_SEEDS):\n",
    "    np.random.seed(seed=seed)\n",
    "    cov_vals = list(range(1, 41, 3))\n",
    "    gain_vals = []\n",
    "    for val in cov_vals:\n",
    "        mean = [0, 0]\n",
    "        cov = [[val, 0], [0, 1/val]] \n",
    "        print(f'covariance: {cov}')\n",
    "        gain = strategicGain(mean, cov)\n",
    "        print(f'gain: {gain}')\n",
    "        print('-----------------------------')\n",
    "        gain_vals.append(gain)\n",
    "    gain_list.append(gain_vals)"
   ]
  },
  {
   "cell_type": "code",
   "execution_count": 13,
   "id": "902cc950-2356-429a-bcde-9c90794018de",
   "metadata": {},
   "outputs": [],
   "source": [
    "gain_vals = np.sum(gain_list, axis=0)/ Num_OF_SEEDS"
   ]
  },
  {
   "cell_type": "code",
   "execution_count": 15,
   "id": "34eb6ba8-e9f5-41d1-b79e-53620dce1bcd",
   "metadata": {},
   "outputs": [
    {
     "data": {
      "text/plain": [
       "Text(0, 0.5, 'strategic gain α')"
      ]
     },
     "execution_count": 15,
     "metadata": {},
     "output_type": "execute_result"
    },
    {
     "data": {
      "image/png": "[encoded data removed]",
      "text/plain": [
       "<Figure size 310x200 with 1 Axes>"
      ]
     },
     "metadata": {},
     "output_type": "display_data"
    }
   ],
   "source": [
    "%matplotlib inline \n",
    "f = plt.figure()\n",
    "f.set_figwidth(3.1)\n",
    "f.set_figheight(2)\n",
    "plt.plot(cov_vals, gain_vals)\n",
    "\n",
    "plt.xlabel('c')\n",
    "plt.ylabel('strategic gain α')\n"
   ]
  }
 ],
 "metadata": {
  "kernelspec": {
   "display_name": "Python 3 (ipykernel)",
   "language": "python",
   "name": "python3"
  },
  "language_info": {
   "codemirror_mode": {
    "name": "ipython",
    "version": 3
   },
   "file_extension": ".py",
   "mimetype": "text/x-python",
   "name": "python",
   "nbconvert_exporter": "python",
   "pygments_lexer": "ipython3",
   "version": "3.9.13"
  }
 },
 "nbformat": 4,
 "nbformat_minor": 5
}
